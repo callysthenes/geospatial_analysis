{
 "cells": [
  {
   "cell_type": "markdown",
   "metadata": {},
   "source": [
    "This notebook replicates the steps shown in the free course procided by SpatialThoughts\n",
    "\n",
    "https://courses.spatialthoughts.com/python-foundation.html#the-python-standard-library"
   ]
  },
  {
   "cell_type": "code",
   "execution_count": 1,
   "metadata": {},
   "outputs": [],
   "source": [
    "from geopy import distance"
   ]
  },
  {
   "cell_type": "code",
   "execution_count": 4,
   "metadata": {},
   "outputs": [],
   "source": [
    "nouadhibou = (20.9346, -17.0348)\n",
    "richat_structure = (20.4879, -11.7559)\n"
   ]
  },
  {
   "cell_type": "markdown",
   "metadata": {},
   "source": [
    "# Calculating distance\n",
    "\n",
    "## distance.great_circle()\n",
    " Calculates the distance on a great circle using haversine formula\n"
   ]
  },
  {
   "cell_type": "code",
   "execution_count": 6,
   "metadata": {},
   "outputs": [
    {
     "name": "stdout",
     "output_type": "stream",
     "text": [
      "551.2694192780905 km\n"
     ]
    }
   ],
   "source": [
    "straight_line_distance = distance.great_circle(nouadhibou, richat_structure)\n",
    "print(straight_line_distance)"
   ]
  },
  {
   "cell_type": "markdown",
   "metadata": {},
   "source": [
    "## distance.geodesic()"
   ]
  },
  {
   "cell_type": "markdown",
   "metadata": {},
   "source": [
    "Calculates the distance using a chosen ellipsoid using vincenty’s formula"
   ]
  },
  {
   "cell_type": "code",
   "execution_count": 7,
   "metadata": {},
   "outputs": [
    {
     "name": "stdout",
     "output_type": "stream",
     "text": [
      "552.0911860567066 km\n"
     ]
    }
   ],
   "source": [
    "ellipsoid_distance = distance.geodesic(nouadhibou, richat_structure)\n",
    "print(ellipsoid_distance)"
   ]
  },
  {
   "cell_type": "code",
   "execution_count": 9,
   "metadata": {},
   "outputs": [
    {
     "name": "stdout",
     "output_type": "stream",
     "text": [
      "552.0911860567066 km\n"
     ]
    }
   ],
   "source": [
    "ellipsoid_distance_wgs84 = distance.geodesic(nouadhibou, richat_structure, ellipsoid='WGS-84')\n",
    "print(ellipsoid_distance_wgs84)\n"
   ]
  },
  {
   "cell_type": "markdown",
   "metadata": {},
   "source": [
    "default ellipsoid is wgs-84"
   ]
  },
  {
   "cell_type": "code",
   "execution_count": 10,
   "metadata": {},
   "outputs": [
    {
     "name": "stdout",
     "output_type": "stream",
     "text": [
      "0.8217667786161655 km\n"
     ]
    }
   ],
   "source": [
    "delta_distances = ellipsoid_distance - straight_line_distance\n",
    "print(delta_distances)"
   ]
  },
  {
   "cell_type": "markdown",
   "metadata": {},
   "source": [
    "# Using Web APIs"
   ]
  },
  {
   "cell_type": "code",
   "execution_count": 11,
   "metadata": {},
   "outputs": [
    {
     "name": "stdout",
     "output_type": "stream",
     "text": [
      "\n",
      "{\n",
      "  \"type\": \"FeatureCollection\",\n",
      "  \"features\": [\n",
      "    {\"type\": \"Feature\",\n",
      "      \"properties\": {\"name\": \"San Francisco\"},\n",
      "      \"geometry\": {\"type\": \"Point\", \"coordinates\": [-121.5687, 37.7739]}\n",
      "    }\n",
      "  ]\n",
      "}\n",
      "\n"
     ]
    }
   ],
   "source": [
    "#sample geojson structure string\n",
    "geojson_string = '''\n",
    "{\n",
    "  \"type\": \"FeatureCollection\",\n",
    "  \"features\": [\n",
    "    {\"type\": \"Feature\",\n",
    "      \"properties\": {\"name\": \"San Francisco\"},\n",
    "      \"geometry\": {\"type\": \"Point\", \"coordinates\": [-121.5687, 37.7739]}\n",
    "    }\n",
    "  ]\n",
    "}\n",
    "'''\n",
    "print(geojson_string)"
   ]
  },
  {
   "cell_type": "code",
   "execution_count": 12,
   "metadata": {},
   "outputs": [],
   "source": [
    "import json"
   ]
  },
  {
   "cell_type": "code",
   "execution_count": 13,
   "metadata": {},
   "outputs": [
    {
     "name": "stdout",
     "output_type": "stream",
     "text": [
      "<class 'dict'>\n"
     ]
    }
   ],
   "source": [
    "data = json.loads(geojson_string)\n",
    "print(type(data))"
   ]
  },
  {
   "cell_type": "code",
   "execution_count": 14,
   "metadata": {},
   "outputs": [
    {
     "name": "stdout",
     "output_type": "stream",
     "text": [
      "{'type': 'FeatureCollection', 'features': [{'type': 'Feature', 'properties': {'name': 'San Francisco'}, 'geometry': {'type': 'Point', 'coordinates': [-121.5687, 37.7739]}}]}\n"
     ]
    }
   ],
   "source": [
    "print(data)"
   ]
  },
  {
   "cell_type": "code",
   "execution_count": 15,
   "metadata": {},
   "outputs": [
    {
     "name": "stdout",
     "output_type": "stream",
     "text": [
      "{'type': 'Feature', 'properties': {'name': 'San Francisco'}, 'geometry': {'type': 'Point', 'coordinates': [-121.5687, 37.7739]}}\n"
     ]
    }
   ],
   "source": [
    "city_data=data['features'][0]\n",
    "print(city_data)\n"
   ]
  },
  {
   "cell_type": "markdown",
   "metadata": {},
   "source": [
    "# The requests module\n",
    "To query a server, we send a GET request with some parameters and the server sends a response back. The requests module allows you to send HTTP requests and parse the responses using Python.\n",
    "\n",
    "The response contains the data received from the server. It contains the HTTP status_code which tells us if the request was successful. HTTP code 200 stands for Sucess OK."
   ]
  },
  {
   "cell_type": "code",
   "execution_count": 16,
   "metadata": {},
   "outputs": [],
   "source": [
    "import requests"
   ]
  },
  {
   "cell_type": "code",
   "execution_count": 17,
   "metadata": {},
   "outputs": [],
   "source": [
    "response = requests.get('https://www.spatialthoughts.com')"
   ]
  },
  {
   "cell_type": "code",
   "execution_count": 18,
   "metadata": {},
   "outputs": [
    {
     "name": "stdout",
     "output_type": "stream",
     "text": [
      "200\n"
     ]
    }
   ],
   "source": [
    "print(response.status_code)\n"
   ]
  },
  {
   "cell_type": "markdown",
   "metadata": {},
   "source": [
    "https://openrouteservice.org/dev/#/signup"
   ]
  },
  {
   "cell_type": "code",
   "execution_count": 29,
   "metadata": {},
   "outputs": [],
   "source": [
    "ORS_API_KEY=\"replace this with your key\""
   ]
  },
  {
   "cell_type": "code",
   "execution_count": 45,
   "metadata": {},
   "outputs": [],
   "source": [
    "nouadhibou_coordinates = (20.9346, -17.0348)\n",
    "nouakchott_coordinates = (18.0864, -15.9751)\n",
    "\n",
    "parameters = {\n",
    "    'api_key': ORS_API_KEY,\n",
    "    'start': '{},{}'.format(nouadhibou_coordinates[1], nouadhibou_coordinates[0]),\n",
    "    'end': '{},{}'.format(nouakchott_coordinates[1], nouakchott_coordinates[0])\n",
    "}\n"
   ]
  },
  {
   "cell_type": "code",
   "execution_count": 46,
   "metadata": {},
   "outputs": [],
   "source": [
    "response = requests.get(\n",
    "    'https://api.openrouteservice.org/v2/directions/driving-car', params=parameters)\n"
   ]
  },
  {
   "cell_type": "code",
   "execution_count": 47,
   "metadata": {},
   "outputs": [
    {
     "name": "stdout",
     "output_type": "stream",
     "text": [
      "Request successful.\n"
     ]
    }
   ],
   "source": [
    "if response.status_code == 200:\n",
    "    print('Request successful.')\n",
    "    data = response.json()\n",
    "else:\n",
    "    print('Request failed.')"
   ]
  },
  {
   "cell_type": "code",
   "execution_count": 48,
   "metadata": {},
   "outputs": [
    {
     "name": "stdout",
     "output_type": "stream",
     "text": [
      "{'distance': 477696.7, 'duration': 19523.5}\n"
     ]
    }
   ],
   "source": [
    "summary = data['features'][0]['properties']['summary']\n",
    "print(summary)"
   ]
  },
  {
   "cell_type": "code",
   "execution_count": 49,
   "metadata": {},
   "outputs": [],
   "source": [
    "data = response.json()"
   ]
  },
  {
   "cell_type": "code",
   "execution_count": 50,
   "metadata": {},
   "outputs": [
    {
     "name": "stdout",
     "output_type": "stream",
     "text": [
      "{'distance': 477696.7, 'duration': 19523.5}\n"
     ]
    }
   ],
   "source": [
    "summary=data['features'][0]['properties']['summary']\n",
    "print(summary)"
   ]
  },
  {
   "cell_type": "code",
   "execution_count": 51,
   "metadata": {},
   "outputs": [
    {
     "name": "stdout",
     "output_type": "stream",
     "text": [
      "477.6967\n"
     ]
    }
   ],
   "source": [
    "#converting to km\n",
    "distance = summary['distance']\n",
    "print(distance/1000)\n"
   ]
  },
  {
   "cell_type": "code",
   "execution_count": null,
   "metadata": {},
   "outputs": [],
   "source": []
  }
 ],
 "metadata": {
  "kernelspec": {
   "display_name": "Python 3",
   "language": "python",
   "name": "python3"
  },
  "language_info": {
   "codemirror_mode": {
    "name": "ipython",
    "version": 3
   },
   "file_extension": ".py",
   "mimetype": "text/x-python",
   "name": "python",
   "nbconvert_exporter": "python",
   "pygments_lexer": "ipython3",
   "version": "3.10.7"
  }
 },
 "nbformat": 4,
 "nbformat_minor": 2
}
