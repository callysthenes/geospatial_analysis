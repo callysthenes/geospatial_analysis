{
 "cells": [
  {
   "cell_type": "markdown",
   "metadata": {},
   "source": [
    "This notebook replicates the steps shown in the free course procided by SpatialThoughts\n",
    "\n",
    "https://courses.spatialthoughts.com/python-foundation.html#the-python-standard-library"
   ]
  },
  {
   "cell_type": "code",
   "execution_count": 3,
   "metadata": {},
   "outputs": [],
   "source": [
    "from geopy import distance"
   ]
  },
  {
   "cell_type": "code",
   "execution_count": 4,
   "metadata": {},
   "outputs": [],
   "source": [
    "nouadhibou = (20.9346, -17.0348)\n",
    "richat_structure = (20.4879, -11.7559)\n"
   ]
  },
  {
   "cell_type": "markdown",
   "metadata": {},
   "source": [
    "# Calculating distance\n",
    "\n",
    "## distance.great_circle()\n",
    " Calculates the distance on a great circle using haversine formula\n"
   ]
  },
  {
   "cell_type": "code",
   "execution_count": 5,
   "metadata": {},
   "outputs": [
    {
     "name": "stdout",
     "output_type": "stream",
     "text": [
      "551.2694192780905 km\n"
     ]
    }
   ],
   "source": [
    "straight_line_distance = distance.great_circle(nouadhibou, richat_structure)\n",
    "print(straight_line_distance)"
   ]
  },
  {
   "cell_type": "markdown",
   "metadata": {},
   "source": [
    "## distance.geodesic()"
   ]
  },
  {
   "cell_type": "markdown",
   "metadata": {},
   "source": [
    "Calculates the distance using a chosen ellipsoid using vincenty’s formula"
   ]
  },
  {
   "cell_type": "code",
   "execution_count": 6,
   "metadata": {},
   "outputs": [
    {
     "name": "stdout",
     "output_type": "stream",
     "text": [
      "552.0911860567066 km\n"
     ]
    }
   ],
   "source": [
    "ellipsoid_distance = distance.geodesic(nouadhibou, richat_structure)\n",
    "print(ellipsoid_distance)"
   ]
  },
  {
   "cell_type": "code",
   "execution_count": 7,
   "metadata": {},
   "outputs": [
    {
     "name": "stdout",
     "output_type": "stream",
     "text": [
      "552.0911860567066 km\n"
     ]
    }
   ],
   "source": [
    "ellipsoid_distance_wgs84 = distance.geodesic(nouadhibou, richat_structure, ellipsoid='WGS-84')\n",
    "print(ellipsoid_distance_wgs84)\n"
   ]
  },
  {
   "cell_type": "markdown",
   "metadata": {},
   "source": [
    "default ellipsoid is wgs-84"
   ]
  },
  {
   "cell_type": "code",
   "execution_count": 8,
   "metadata": {},
   "outputs": [
    {
     "name": "stdout",
     "output_type": "stream",
     "text": [
      "0.8217667786161655 km\n"
     ]
    }
   ],
   "source": [
    "delta_distances = ellipsoid_distance - straight_line_distance\n",
    "print(delta_distances)"
   ]
  },
  {
   "cell_type": "markdown",
   "metadata": {},
   "source": [
    "# Using Web APIs"
   ]
  },
  {
   "cell_type": "code",
   "execution_count": 9,
   "metadata": {},
   "outputs": [
    {
     "name": "stdout",
     "output_type": "stream",
     "text": [
      "\n",
      "{\n",
      "  \"type\": \"FeatureCollection\",\n",
      "  \"features\": [\n",
      "    {\"type\": \"Feature\",\n",
      "      \"properties\": {\"name\": \"San Francisco\"},\n",
      "      \"geometry\": {\"type\": \"Point\", \"coordinates\": [-121.5687, 37.7739]}\n",
      "    }\n",
      "  ]\n",
      "}\n",
      "\n"
     ]
    }
   ],
   "source": [
    "#sample geojson structure string\n",
    "geojson_string = '''\n",
    "{\n",
    "  \"type\": \"FeatureCollection\",\n",
    "  \"features\": [\n",
    "    {\"type\": \"Feature\",\n",
    "      \"properties\": {\"name\": \"San Francisco\"},\n",
    "      \"geometry\": {\"type\": \"Point\", \"coordinates\": [-121.5687, 37.7739]}\n",
    "    }\n",
    "  ]\n",
    "}\n",
    "'''\n",
    "print(geojson_string)"
   ]
  },
  {
   "cell_type": "code",
   "execution_count": 10,
   "metadata": {},
   "outputs": [],
   "source": [
    "import json"
   ]
  },
  {
   "cell_type": "code",
   "execution_count": 11,
   "metadata": {},
   "outputs": [
    {
     "name": "stdout",
     "output_type": "stream",
     "text": [
      "<class 'dict'>\n"
     ]
    }
   ],
   "source": [
    "data = json.loads(geojson_string)\n",
    "print(type(data))"
   ]
  },
  {
   "cell_type": "code",
   "execution_count": 12,
   "metadata": {},
   "outputs": [
    {
     "name": "stdout",
     "output_type": "stream",
     "text": [
      "{'type': 'FeatureCollection', 'features': [{'type': 'Feature', 'properties': {'name': 'San Francisco'}, 'geometry': {'type': 'Point', 'coordinates': [-121.5687, 37.7739]}}]}\n"
     ]
    }
   ],
   "source": [
    "print(data)"
   ]
  },
  {
   "cell_type": "code",
   "execution_count": 13,
   "metadata": {},
   "outputs": [
    {
     "name": "stdout",
     "output_type": "stream",
     "text": [
      "{'type': 'Feature', 'properties': {'name': 'San Francisco'}, 'geometry': {'type': 'Point', 'coordinates': [-121.5687, 37.7739]}}\n"
     ]
    }
   ],
   "source": [
    "city_data=data['features'][0]\n",
    "print(city_data)\n"
   ]
  },
  {
   "cell_type": "markdown",
   "metadata": {},
   "source": [
    "# The requests module\n",
    "To query a server, we send a GET request with some parameters and the server sends a response back. The requests module allows you to send HTTP requests and parse the responses using Python.\n",
    "\n",
    "The response contains the data received from the server. It contains the HTTP status_code which tells us if the request was successful. HTTP code 200 stands for Sucess OK."
   ]
  },
  {
   "cell_type": "code",
   "execution_count": 14,
   "metadata": {},
   "outputs": [],
   "source": [
    "import requests"
   ]
  },
  {
   "cell_type": "code",
   "execution_count": 15,
   "metadata": {},
   "outputs": [],
   "source": [
    "response = requests.get('https://www.spatialthoughts.com')"
   ]
  },
  {
   "cell_type": "code",
   "execution_count": 16,
   "metadata": {},
   "outputs": [
    {
     "name": "stdout",
     "output_type": "stream",
     "text": [
      "200\n"
     ]
    }
   ],
   "source": [
    "print(response.status_code)\n"
   ]
  },
  {
   "cell_type": "markdown",
   "metadata": {},
   "source": [
    "https://openrouteservice.org/dev/#/signup"
   ]
  },
  {
   "cell_type": "code",
   "execution_count": 17,
   "metadata": {},
   "outputs": [],
   "source": [
    "ORS_API_KEY=\"replace this with your key\""
   ]
  },
  {
   "cell_type": "markdown",
   "metadata": {},
   "source": [
    "API limited to a few cities, Ouadane in Mauritania does not work"
   ]
  },
  {
   "cell_type": "code",
   "execution_count": 18,
   "metadata": {},
   "outputs": [],
   "source": [
    "nouadhibou_coordinates = (20.9346, -17.0348)\n",
    "nouakchott_coordinates = (18.0864, -15.9751)\n",
    "\n",
    "parameters = {\n",
    "    'api_key': ORS_API_KEY,\n",
    "    'start': '{},{}'.format(nouadhibou_coordinates[1], nouadhibou_coordinates[0]),\n",
    "    'end': '{},{}'.format(nouakchott_coordinates[1], nouakchott_coordinates[0])\n",
    "}\n"
   ]
  },
  {
   "cell_type": "code",
   "execution_count": 19,
   "metadata": {},
   "outputs": [],
   "source": [
    "response = requests.get(\n",
    "    'https://api.openrouteservice.org/v2/directions/driving-car', params=parameters)\n"
   ]
  },
  {
   "cell_type": "code",
   "execution_count": 20,
   "metadata": {},
   "outputs": [
    {
     "name": "stdout",
     "output_type": "stream",
     "text": [
      "Request failed.\n"
     ]
    }
   ],
   "source": [
    "if response.status_code == 200:\n",
    "    print('Request successful.')\n",
    "    data = response.json()\n",
    "else:\n",
    "    print('Request failed.')"
   ]
  },
  {
   "cell_type": "code",
   "execution_count": 21,
   "metadata": {},
   "outputs": [
    {
     "ename": "KeyError",
     "evalue": "'summary'",
     "output_type": "error",
     "traceback": [
      "\u001b[0;31m---------------------------------------------------------------------------\u001b[0m",
      "\u001b[0;31mKeyError\u001b[0m                                  Traceback (most recent call last)",
      "\u001b[0;32m/tmp/ipykernel_21054/2763715933.py\u001b[0m in \u001b[0;36m<module>\u001b[0;34m\u001b[0m\n\u001b[0;32m----> 1\u001b[0;31m \u001b[0msummary\u001b[0m \u001b[0;34m=\u001b[0m \u001b[0mdata\u001b[0m\u001b[0;34m[\u001b[0m\u001b[0;34m'features'\u001b[0m\u001b[0;34m]\u001b[0m\u001b[0;34m[\u001b[0m\u001b[0;36m0\u001b[0m\u001b[0;34m]\u001b[0m\u001b[0;34m[\u001b[0m\u001b[0;34m'properties'\u001b[0m\u001b[0;34m]\u001b[0m\u001b[0;34m[\u001b[0m\u001b[0;34m'summary'\u001b[0m\u001b[0;34m]\u001b[0m\u001b[0;34m\u001b[0m\u001b[0;34m\u001b[0m\u001b[0m\n\u001b[0m\u001b[1;32m      2\u001b[0m \u001b[0mprint\u001b[0m\u001b[0;34m(\u001b[0m\u001b[0msummary\u001b[0m\u001b[0;34m)\u001b[0m\u001b[0;34m\u001b[0m\u001b[0;34m\u001b[0m\u001b[0m\n",
      "\u001b[0;31mKeyError\u001b[0m: 'summary'"
     ]
    }
   ],
   "source": [
    "summary = data['features'][0]['properties']['summary']\n",
    "print(summary)"
   ]
  },
  {
   "cell_type": "code",
   "execution_count": null,
   "metadata": {},
   "outputs": [],
   "source": [
    "data = response.json()"
   ]
  },
  {
   "cell_type": "code",
   "execution_count": null,
   "metadata": {},
   "outputs": [
    {
     "name": "stdout",
     "output_type": "stream",
     "text": [
      "{'distance': 477696.7, 'duration': 19523.5}\n"
     ]
    }
   ],
   "source": [
    "summary=data['features'][0]['properties']['summary']\n",
    "print(summary)"
   ]
  },
  {
   "cell_type": "code",
   "execution_count": null,
   "metadata": {},
   "outputs": [
    {
     "name": "stdout",
     "output_type": "stream",
     "text": [
      "477.6967\n"
     ]
    }
   ],
   "source": [
    "#converting to km\n",
    "distance = summary['distance']\n",
    "print(distance/1000)\n"
   ]
  },
  {
   "cell_type": "markdown",
   "metadata": {},
   "source": [
    "# Geocoding addresses using geopy"
   ]
  },
  {
   "cell_type": "markdown",
   "metadata": {},
   "source": [
    "### Sample code with addresses to geocode\n"
   ]
  },
  {
   "cell_type": "code",
   "execution_count": null,
   "metadata": {},
   "outputs": [],
   "source": [
    "# List of Hurricane Evacuation Centers in New York City with Addresses\n",
    "# Each item is a tuple with the name of the center and its address\n",
    "locations = [\n",
    "    ('Norman Thomas HS (ECF)', '111 E 33rd St, NYC, New York'),\n",
    "    ('Midtown East Campus', '233 E 56th St, NYC, New York'),\n",
    "    ('Louis D. Brandeis HS', '145 W 84th St, NYC, New York'),\n",
    "    ('Martin Luther King, Jr. HS', '122 Amsterdam Avenue, NYC, New York'),\n",
    "    ('P.S. 48', '4360 Broadway, NYC, New York')\n",
    "]"
   ]
  },
  {
   "cell_type": "code",
   "execution_count": null,
   "metadata": {},
   "outputs": [
    {
     "data": {
      "text/plain": [
       "[('Norman Thomas HS (ECF)', '111 E 33rd St, NYC, New York'),\n",
       " ('Midtown East Campus', '233 E 56th St, NYC, New York'),\n",
       " ('Louis D. Brandeis HS', '145 W 84th St, NYC, New York'),\n",
       " ('Martin Luther King, Jr. HS', '122 Amsterdam Avenue, NYC, New York'),\n",
       " ('P.S. 48', '4360 Broadway, NYC, New York')]"
      ]
     },
     "execution_count": 2,
     "metadata": {},
     "output_type": "execute_result"
    }
   ],
   "source": [
    "locations"
   ]
  },
  {
   "cell_type": "code",
   "execution_count": 23,
   "metadata": {},
   "outputs": [],
   "source": [
    "from geopy.geocoders import Nominatim\n",
    "geolocator = Nominatim(user_agent=\"my_geocoder\")\n"
   ]
  },
  {
   "cell_type": "code",
   "execution_count": 31,
   "metadata": {},
   "outputs": [],
   "source": [
    "geocoded_locations=[]\n"
   ]
  },
  {
   "cell_type": "code",
   "execution_count": 32,
   "metadata": {},
   "outputs": [
    {
     "name": "stdout",
     "output_type": "stream",
     "text": [
      "Norman Thomas HS (ECF): Latitude=40.7462177, Longitude=-73.9809816\n",
      "Midtown East Campus: Latitude=40.65132465, Longitude=-73.92421646290632\n",
      "Louis D. Brandeis HS: Latitude=40.7857432, Longitude=-73.9742029\n",
      "Martin Luther King, Jr. HS: Latitude=40.7747751, Longitude=-73.9853689\n",
      "P.S. 48: Latitude=40.8532731, Longitude=-73.9338592\n"
     ]
    }
   ],
   "source": [
    "for location in locations:\n",
    "    name, address = location\n",
    "    location_info = geolocator.geocode(address)\n",
    "    if location_info is not None:\n",
    "        latitude, longitude = location_info.latitude, location_info.longitude\n",
    "        geocoded_locations.append((name, latitude, longitude))\n",
    "        print(f'{name}: Latitude={latitude}, Longitude={longitude}')\n",
    "    else:\n",
    "        print(f'Geocoding failed for {name}: {address}')"
   ]
  },
  {
   "cell_type": "code",
   "execution_count": 33,
   "metadata": {},
   "outputs": [
    {
     "name": "stdout",
     "output_type": "stream",
     "text": [
      "Norman Thomas HS (ECF): Latitude=40.7462177, Longitude=-73.9809816\n",
      "Midtown East Campus: Latitude=40.65132465, Longitude=-73.92421646290632\n",
      "Louis D. Brandeis HS: Latitude=40.7857432, Longitude=-73.9742029\n",
      "Martin Luther King, Jr. HS: Latitude=40.7747751, Longitude=-73.9853689\n",
      "P.S. 48: Latitude=40.8532731, Longitude=-73.9338592\n"
     ]
    }
   ],
   "source": [
    "# Print the geocoded locations or use them as needed\n",
    "for name, latitude, longitude in geocoded_locations:\n",
    "    print(f'{name}: Latitude={latitude}, Longitude={longitude}')"
   ]
  },
  {
   "cell_type": "code",
   "execution_count": 34,
   "metadata": {},
   "outputs": [
    {
     "data": {
      "text/plain": [
       "[('Norman Thomas HS (ECF)', 40.7462177, -73.9809816),\n",
       " ('Midtown East Campus', 40.65132465, -73.92421646290632),\n",
       " ('Louis D. Brandeis HS', 40.7857432, -73.9742029),\n",
       " ('Martin Luther King, Jr. HS', 40.7747751, -73.9853689),\n",
       " ('P.S. 48', 40.8532731, -73.9338592)]"
      ]
     },
     "execution_count": 34,
     "metadata": {},
     "output_type": "execute_result"
    }
   ],
   "source": [
    "geocoded_locations"
   ]
  },
  {
   "cell_type": "markdown",
   "metadata": {},
   "source": [
    "## Part 2\n",
    "Get a list of 5 addresses in your city and geocode them.\n",
    "\n",
    "You can use Nominatim geocoder. Nominatim is based on OpenStreetMap and the it’s geocoding quality varies from country to country. You can visit https://openstreetmap.org/ and search for your address. It uses Nominatim geocoder so you can check if your address is suitable for this service.\n",
    "\n",
    "Many countries of the world do not have structured addresses and use informal or landmark based addresses. There are usually very difficult to geocode accurately. If you are trying to geocode such addresses, your best bet is to truncate the address at the street or locality level.\n",
    "\n"
   ]
  },
  {
   "cell_type": "code",
   "execution_count": 44,
   "metadata": {},
   "outputs": [],
   "source": [
    "\n",
    "\n",
    "# Generate 5 random addresses in Madrid city center\n",
    "madrid_addresses = [\"Avenida de la Castellana 34, Madrid\", \"Calle de Alberto Bosch 10, Madrid\",\n",
    "                    \"C. de Almadén, 28014 Madrid\", \"C. de la Alameda, 102, 28014 Madrid\"]"
   ]
  },
  {
   "cell_type": "code",
   "execution_count": 45,
   "metadata": {},
   "outputs": [
    {
     "data": {
      "text/plain": [
       "['Avenida de la Castellana 34, Madrid',\n",
       " 'Calle de Alberto Bosch 10, Madrid',\n",
       " 'C. de Almadén, 28014 Madrid',\n",
       " 'C. de la Alameda, 102, 28014 Madrid']"
      ]
     },
     "execution_count": 45,
     "metadata": {},
     "output_type": "execute_result"
    }
   ],
   "source": [
    "madrid_addresses"
   ]
  },
  {
   "cell_type": "code",
   "execution_count": 46,
   "metadata": {},
   "outputs": [
    {
     "name": "stdout",
     "output_type": "stream",
     "text": [
      "Geocoding failed for address: Avenida de la Castellana 34, Madrid\n",
      "Geocoding failed for address: Calle de Alberto Bosch 10, Madrid\n",
      "Geocoding failed for address: C. de Almadén, 28014 Madrid\n",
      "Address: C. de la Alameda, 102, 28014 Madrid\n",
      "Latitude: 40.41178, Longitude: -3.6938052\n"
     ]
    }
   ],
   "source": [
    "# Create a list to store the geocoded locations\n",
    "madrid_locations = []\n",
    "\n",
    "# Loop through the addresses and geocode each one\n",
    "for address in madrid_addresses:\n",
    "    location_info = geolocator.geocode(address)\n",
    "    if location_info is not None:\n",
    "        latitude, longitude = location_info.latitude, location_info.longitude\n",
    "        madrid_locations.append((address, latitude, longitude))\n",
    "    else:\n",
    "        print(f'Geocoding failed for address: {address}')\n",
    "\n",
    "# Print the geocoded locations or use them as needed\n",
    "for address, latitude, longitude in madrid_locations:\n",
    "    print(f'Address: {address}')\n",
    "    print(f'Latitude: {latitude}, Longitude: {longitude}')"
   ]
  },
  {
   "cell_type": "code",
   "execution_count": 47,
   "metadata": {},
   "outputs": [
    {
     "data": {
      "text/plain": [
       "[('C. de la Alameda, 102, 28014 Madrid', 40.41178, -3.6938052)]"
      ]
     },
     "execution_count": 47,
     "metadata": {},
     "output_type": "execute_result"
    }
   ],
   "source": [
    "madrid_locations"
   ]
  },
  {
   "cell_type": "markdown",
   "metadata": {},
   "source": [
    "Not working wit all addresses"
   ]
  },
  {
   "cell_type": "markdown",
   "metadata": {},
   "source": [
    "# Geopandas"
   ]
  },
  {
   "cell_type": "code",
   "execution_count": 48,
   "metadata": {},
   "outputs": [
    {
     "ename": "ModuleNotFoundError",
     "evalue": "No module named 'geopandas'",
     "output_type": "error",
     "traceback": [
      "\u001b[0;31m---------------------------------------------------------------------------\u001b[0m",
      "\u001b[0;31mModuleNotFoundError\u001b[0m                       Traceback (most recent call last)",
      "\u001b[0;32m/tmp/ipykernel_21054/3841419929.py\u001b[0m in \u001b[0;36m<module>\u001b[0;34m\u001b[0m\n\u001b[0;32m----> 1\u001b[0;31m \u001b[0;32mimport\u001b[0m \u001b[0mgeopandas\u001b[0m \u001b[0;32mas\u001b[0m \u001b[0mgpd\u001b[0m\u001b[0;34m\u001b[0m\u001b[0;34m\u001b[0m\u001b[0m\n\u001b[0m",
      "\u001b[0;31mModuleNotFoundError\u001b[0m: No module named 'geopandas'"
     ]
    }
   ],
   "source": [
    "import geopandas as gpd"
   ]
  },
  {
   "cell_type": "code",
   "execution_count": null,
   "metadata": {},
   "outputs": [],
   "source": []
  }
 ],
 "metadata": {
  "kernelspec": {
   "display_name": "Python 3",
   "language": "python",
   "name": "python3"
  },
  "language_info": {
   "codemirror_mode": {
    "name": "ipython",
    "version": 3
   },
   "file_extension": ".py",
   "mimetype": "text/x-python",
   "name": "python",
   "nbconvert_exporter": "python",
   "pygments_lexer": "ipython3",
   "version": "3.10.7"
  }
 },
 "nbformat": 4,
 "nbformat_minor": 2
}
